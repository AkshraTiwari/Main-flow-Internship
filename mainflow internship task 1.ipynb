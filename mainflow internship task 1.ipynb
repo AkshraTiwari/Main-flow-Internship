{
 "cells": [
  {
   "cell_type": "code",
   "execution_count": 1,
   "id": "253490f4-9e89-4b12-8ce5-1a2d3d1e2d46",
   "metadata": {},
   "outputs": [
    {
     "name": "stdout",
     "output_type": "stream",
     "text": [
      "['apple', 1, 'banana', True, 3.56, (2+3j)]\n"
     ]
    }
   ],
   "source": [
    "#creating a list\n",
    "LIST1= [\"apple\", 1 , \"banana\", True , 3.56, 2 + 3j]\n",
    "print(LIST1)"
   ]
  },
  {
   "cell_type": "code",
   "execution_count": 2,
   "id": "22aa8b47-bf32-4b8d-996e-deb57f09f34d",
   "metadata": {},
   "outputs": [
    {
     "name": "stdout",
     "output_type": "stream",
     "text": [
      "apple\n",
      "banana\n",
      "(2+3j)\n"
     ]
    }
   ],
   "source": [
    "#printing different elemets of a list\n",
    "print(LIST1[0])\n",
    "print(LIST1[2])\n",
    "print(LIST1[5])"
   ]
  },
  {
   "cell_type": "code",
   "execution_count": 3,
   "id": "df602116-0b76-4fa1-8871-6404c3a23268",
   "metadata": {},
   "outputs": [
    {
     "name": "stdout",
     "output_type": "stream",
     "text": [
      "PEACH\n",
      "DRAGONFRUIT\n"
     ]
    }
   ],
   "source": [
    "#creating a multidimentional list\n",
    "LIST2 = [['PEAR', 'PEACH'], ['DRAGONFRUIT']]\n",
    "print(LIST2[0][1])\n",
    "print(LIST2[1][0])"
   ]
  },
  {
   "cell_type": "code",
   "execution_count": 4,
   "id": "b25d9392-ce21-4f57-a20a-9fe4558c51d3",
   "metadata": {},
   "outputs": [
    {
     "name": "stdout",
     "output_type": "stream",
     "text": [
      "List after Addition of Three elements: \n",
      "['apple', 1, 'banana', True, 3.56, (2+3j), 1]\n",
      "[['PEAR', 'PEACH'], ['DRAGONFRUIT'], 2]\n",
      "\n",
      "List after Addition of a Tuple: \n",
      "['apple', 1, 'banana', True, 3.56, (2+3j), 1, (5, 6)]\n",
      "\n",
      "List after Addition of a List: \n",
      "[['PEAR', 'PEACH'], ['DRAGONFRUIT'], 2, ['apple', 1, 'banana', True, 3.56, (2+3j), 1, (5, 6)]]\n",
      "List after performing Extend Operation: \n",
      "[['PEAR', 'PEACH'], ['DRAGONFRUIT'], 2, ['apple', 1, 'banana', True, 3.56, (2+3j), 1, (5, 6)], 10, 'Mango', 'Papaya']\n"
     ]
    }
   ],
   "source": [
    "#adding elements into a list using append and extend\n",
    "LIST1.append(1)\n",
    "LIST2.append(2)\n",
    "print(\"List after Addition of Three elements: \")\n",
    "print(LIST1)\n",
    "print(LIST2)\n",
    "\n",
    "\n",
    "\n",
    "LIST1.append((5, 6))\n",
    "print(\"\\nList after Addition of a Tuple: \")\n",
    "print(LIST1)\n",
    "\n",
    "LIST2.append(LIST1)\n",
    "print(\"\\nList after Addition of a List: \")\n",
    "print(LIST2)\n",
    "\n",
    "LIST2.extend([10, 'Mango', 'Papaya'])\n",
    "print(\"List after performing Extend Operation: \")\n",
    "print(LIST2)\n"
   ]
  },
  {
   "cell_type": "code",
   "execution_count": 5,
   "id": "b1bd080c-ee8c-4df8-b405-53be1c60ee1a",
   "metadata": {},
   "outputs": [
    {
     "name": "stdout",
     "output_type": "stream",
     "text": [
      "['blackberry', 34, 'Cherry']\n"
     ]
    }
   ],
   "source": [
    "#printing list in reverse\n",
    "LIST3 = ['Cherry',34, 'blackberry']\n",
    "LIST3.reverse()\n",
    "print(LIST3)\n"
   ]
  },
  {
   "cell_type": "code",
   "execution_count": 6,
   "id": "29664ec1-7bf7-41d7-be38-a840d850086e",
   "metadata": {},
   "outputs": [
    {
     "name": "stdout",
     "output_type": "stream",
     "text": [
      "Initial List: \n",
      "['rasberry', 'blueberry', 4, 7, 6]\n",
      "List after Removal of two elements: \n",
      "['rasberry', 7, 6]\n",
      "List after popping an element: \n",
      "['rasberry', 7]\n",
      "List after popping a specific element: \n",
      "[7]\n"
     ]
    }
   ],
   "source": [
    "#removing and poping elements from a list\n",
    "LIST4 = [\"rasberry\", \"blueberry\",4,7,6]\n",
    "print(\"Initial List: \")\n",
    "print(LIST4)\n",
    "\n",
    "LIST4.remove(4)\n",
    "LIST4.remove(\"blueberry\")\n",
    "print(\"List after Removal of two elements: \")\n",
    "print(LIST4)\n",
    "LIST4.pop()\n",
    "print(\"List after popping an element: \")\n",
    "print(LIST4)\n",
    "LIST4.pop(0)\n",
    "print(\"List after popping a specific element: \")\n",
    "print(LIST4)"
   ]
  },
  {
   "cell_type": "code",
   "execution_count": 7,
   "id": "f1828ca8-32fd-409d-9808-2ec965fcb9d6",
   "metadata": {},
   "outputs": [
    {
     "name": "stdout",
     "output_type": "stream",
     "text": [
      "[2, 45, 35]\n"
     ]
    }
   ],
   "source": [
    "#modifying elements in a list\n",
    "LIST5=[2,45,\"ORANGE\"]\n",
    "LIST5[2] = 35\n",
    "print(LIST5)"
   ]
  },
  {
   "cell_type": "code",
   "execution_count": 8,
   "id": "feddf654-4d18-4082-ae55-6c7875013674",
   "metadata": {},
   "outputs": [
    {
     "name": "stdout",
     "output_type": "stream",
     "text": [
      "\n",
      "Dictionary with the use of Integer Keys: \n",
      "{1: 'so', 2: 'long', 3: 'london'}\n",
      "\n",
      "Dictionary with the use of Mixed Keys: \n",
      "{'Name': 'Taylor swift', 1: [1, 2, 3, 4]}\n"
     ]
    }
   ],
   "source": [
    "#creating dictionary\n",
    "DICT1 = {1: 'so', 2: 'long', 3: 'london'}\n",
    "print(\"\\nDictionary with the use of Integer Keys: \")\n",
    "print(DICT1)\n",
    "\n",
    "DICT1 = {'Name': 'Taylor swift', 1: [1, 2, 3, 4]}\n",
    "print(\"\\nDictionary with the use of Mixed Keys: \")\n",
    "print(DICT1)"
   ]
  },
  {
   "cell_type": "code",
   "execution_count": 9,
   "id": "8db3951f-2874-45a0-93d9-a1612f23b10c",
   "metadata": {},
   "outputs": [
    {
     "name": "stdout",
     "output_type": "stream",
     "text": [
      "Empty Dictionary: \n",
      "{}\n",
      "\n",
      "Dictionary after adding 3 elements: \n",
      "{0: 'cornelia street', 2: 'down bad', 3: 1}\n"
     ]
    }
   ],
   "source": [
    "#updating / adding elements\n",
    "Dict2 = {}\n",
    "print(\"Empty Dictionary: \")\n",
    "print(Dict2)\n",
    "Dict2[0] = 'cornelia street'\n",
    "Dict2[2] = 'down bad'\n",
    "Dict2[3] = 1\n",
    "print(\"\\nDictionary after adding 3 elements: \")\n",
    "print(Dict2)"
   ]
  },
  {
   "cell_type": "code",
   "execution_count": 10,
   "id": "1c5ce406-6e18-4fb5-bce0-73404203389d",
   "metadata": {},
   "outputs": [
    {
     "name": "stdout",
     "output_type": "stream",
     "text": [
      "Accessing an element using a key:\n",
      "Welcome\n",
      "Accessing an element using a key:\n",
      "to\n",
      "Accessing an element using a key:\n",
      "New York\n"
     ]
    }
   ],
   "source": [
    "#accecing specific element\n",
    "Dict3 = {1: 'Welcome', 2: 'to', 3: 'New York'}\n",
    "print(\"Accessing an element using a key:\")\n",
    "print(Dict3[1])\n",
    "print(\"Accessing an element using a key:\")\n",
    "print(Dict3[2])\n",
    "print(\"Accessing an element using a key:\")\n",
    "print(Dict3[3])"
   ]
  },
  {
   "cell_type": "code",
   "execution_count": 11,
   "id": "de7ed078-f4e9-468c-bcd0-c8d7f0b8d9fd",
   "metadata": {},
   "outputs": [
    {
     "name": "stdout",
     "output_type": "stream",
     "text": [
      "Dictionary =\n",
      "{1: 'so', 2: 'long', 3: 'london'}\n",
      "Data after deletion Dictionary=\n",
      "{2: 'long', 3: 'london'}\n"
     ]
    }
   ],
   "source": [
    "#deleting element\n",
    "Dict4 = {1: 'so', 2: 'long', 3: 'london'}\n",
    "print(\"Dictionary =\")\n",
    "print(Dict4)\n",
    "del(Dict4[1])\n",
    "print(\"Data after deletion Dictionary=\")\n",
    "print(Dict4)"
   ]
  },
  {
   "cell_type": "code",
   "execution_count": 12,
   "id": "ef95bb4c-69fb-432b-83fd-e986c34d4a81",
   "metadata": {},
   "outputs": [
    {
     "name": "stdout",
     "output_type": "stream",
     "text": [
      "{'name': 'Akshra', 'age': 20, 'city': 'New Delhi', 'education': {'degree': 'BSc', 'university': 'CU'}}\n"
     ]
    }
   ],
   "source": [
    "#Adding elements\n",
    "my_dict = {}\n",
    "my_dict['name'] = 'Akshra'\n",
    "my_dict.update({'age': 20, 'city': 'New Delhi'})\n",
    "my_dict['education'] = {'degree': 'BSc', 'university': 'CU'}\n",
    "print(my_dict)"
   ]
  },
  {
   "cell_type": "code",
   "execution_count": 13,
   "id": "b9d7a125-600b-4c86-b78a-0491b81a1074",
   "metadata": {},
   "outputs": [
    {
     "name": "stdout",
     "output_type": "stream",
     "text": [
      "{'c', 'b', 'a'}\n"
     ]
    }
   ],
   "source": [
    "# creating a set\n",
    "SET1 = set([\"a\", \"b\", \"c\"])\n",
    "print(SET1)"
   ]
  },
  {
   "cell_type": "code",
   "execution_count": 14,
   "id": "0feb8508-d408-4309-b3e2-02b73669d6a9",
   "metadata": {},
   "outputs": [
    {
     "name": "stdout",
     "output_type": "stream",
     "text": [
      "{'c', 'b', 'd', 'a'}\n"
     ]
    }
   ],
   "source": [
    "# Adding element to the set\n",
    "SET1.add(\"d\")\n",
    "print(SET1)"
   ]
  },
  {
   "cell_type": "code",
   "execution_count": 15,
   "id": "c77ff464-116b-4230-9f3a-050f7730051b",
   "metadata": {},
   "outputs": [
    {
     "name": "stdout",
     "output_type": "stream",
     "text": [
      "Initial Set: {1, 2, 3, 4, 5}\n"
     ]
    }
   ],
   "source": [
    "# Creating a set\n",
    "SET2 = {1, 2, 3, 4, 5}\n",
    "print(\"Initial Set:\", SET2)"
   ]
  },
  {
   "cell_type": "code",
   "execution_count": 16,
   "id": "0c292aa7-f953-41cf-a9e6-d98968afa7b2",
   "metadata": {},
   "outputs": [
    {
     "name": "stdout",
     "output_type": "stream",
     "text": [
      "Set after adding an element: {1, 2, 3, 4, 5, 6}\n",
      "Set after adding multiple elements: {1, 2, 3, 4, 5, 6, 7, 8, 9}\n"
     ]
    }
   ],
   "source": [
    "# Adding elements\n",
    "SET2.add(6)\n",
    "print(\"Set after adding an element:\", SET2)\n",
    "\n",
    "SET2.update([7, 8, 9])\n",
    "print(\"Set after adding multiple elements:\", SET2)"
   ]
  },
  {
   "cell_type": "code",
   "execution_count": 17,
   "id": "f917d345-ca94-4895-8218-132e7619d8cd",
   "metadata": {},
   "outputs": [
    {
     "name": "stdout",
     "output_type": "stream",
     "text": [
      "Set after removing an element: {1, 2, 3, 4, 5, 7, 8, 9}\n",
      "Set after discarding an element that may not exist: {1, 2, 3, 4, 5, 7, 8, 9}\n",
      "Removed element: 1\n",
      "Set after popping an element: {2, 3, 4, 5, 7, 8, 9}\n",
      "Set after clearing all elements: set()\n"
     ]
    }
   ],
   "source": [
    "# Removing elements\n",
    "SET2.remove(6)\n",
    "print(\"Set after removing an element:\", SET2)\n",
    "\n",
    "SET2.discard(10)\n",
    "print(\"Set after discarding an element that may not exist:\", SET2)\n",
    "\n",
    "removed_element = SET2.pop()\n",
    "print(\"Removed element:\", removed_element)\n",
    "print(\"Set after popping an element:\", SET2)\n",
    "\n",
    "SET2.clear()\n",
    "print(\"Set after clearing all elements:\", SET2)"
   ]
  },
  {
   "cell_type": "code",
   "execution_count": 18,
   "id": "40197fbd-94f7-4529-a7a0-587a19b8a2cd",
   "metadata": {},
   "outputs": [
    {
     "name": "stdout",
     "output_type": "stream",
     "text": [
      "Union of set_a and set_b: {1, 2, 3, 4, 5}\n",
      "Intersection of set_a and set_b: {3}\n",
      "Difference of set_a and set_b: {1, 2}\n",
      "Symmetric Difference of set_a and set_b: {1, 2, 4, 5}\n"
     ]
    }
   ],
   "source": [
    "# Set operations\n",
    "set_a = {1, 2, 3}\n",
    "set_b = {3, 4, 5}\n",
    "\n",
    "union_set = set_a.union(set_b)\n",
    "print(\"Union of set_a and set_b:\", union_set)\n",
    "\n",
    "intersection_set = set_a.intersection(set_b)\n",
    "print(\"Intersection of set_a and set_b:\", intersection_set)\n",
    "\n",
    "difference_set = set_a.difference(set_b)\n",
    "print(\"Difference of set_a and set_b:\", difference_set)\n",
    "\n",
    "symmetric_difference_set = set_a.symmetric_difference(set_b)\n",
    "print(\"Symmetric Difference of set_a and set_b:\", symmetric_difference_set)"
   ]
  },
  {
   "cell_type": "code",
   "execution_count": null,
   "id": "bdece416-0233-40b7-8472-2ebe7a020b07",
   "metadata": {},
   "outputs": [],
   "source": []
  },
  {
   "cell_type": "code",
   "execution_count": null,
   "id": "ac7ef26f-f162-46a9-bfa7-7ea444bee57f",
   "metadata": {},
   "outputs": [],
   "source": []
  }
 ],
 "metadata": {
  "kernelspec": {
   "display_name": "Python 3 (ipykernel)",
   "language": "python",
   "name": "python3"
  },
  "language_info": {
   "codemirror_mode": {
    "name": "ipython",
    "version": 3
   },
   "file_extension": ".py",
   "mimetype": "text/x-python",
   "name": "python",
   "nbconvert_exporter": "python",
   "pygments_lexer": "ipython3",
   "version": "3.10.9"
  }
 },
 "nbformat": 4,
 "nbformat_minor": 5
}

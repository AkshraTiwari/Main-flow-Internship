{
  "nbformat": 4,
  "nbformat_minor": 0,
  "metadata": {
    "colab": {
      "provenance": []
    },
    "kernelspec": {
      "name": "python3",
      "display_name": "Python 3"
    },
    "language_info": {
      "name": "python"
    }
  },
  "cells": [
    {
      "cell_type": "code",
      "source": [
        "from google.colab import drive\n",
        "drive.mount('/content/drive')"
      ],
      "metadata": {
        "colab": {
          "base_uri": "https://localhost:8080/"
        },
        "id": "Av93oSE2xewN",
        "outputId": "e4664292-7ef9-47d6-8ffc-348c2075cd94"
      },
      "execution_count": null,
      "outputs": [
        {
          "output_type": "stream",
          "name": "stdout",
          "text": [
            "Drive already mounted at /content/drive; to attempt to forcibly remount, call drive.mount(\"/content/drive\", force_remount=True).\n"
          ]
        }
      ]
    },
    {
      "cell_type": "code",
      "source": [
        "#importing pands and loading csv file\n",
        "import pandas as pd\n",
        "path = \"/content/drive/MyDrive/main flow task 2/01.Data Cleaning and Preprocessing (2).csv\"\n",
        "df = pd.read_csv(path)\n",
        "print(df.head())chrome-extension://mmeijimgabbpbgpdklnllpncmdofkcpn/1d3de951c3c8e456af03.png\n"
      ],
      "metadata": {
        "colab": {
          "base_uri": "https://localhost:8080/"
        },
        "id": "YysW1Jfhyq_d",
        "outputId": "4201ae08-4628-4986-985a-7f51d8a3dd9b"
      },
      "execution_count": null,
      "outputs": [
        {
          "output_type": "stream",
          "name": "stdout",
          "text": [
            "  Observation  Y-Kappa  ChipRate  BF-CMratio  BlowFlow  ChipLevel4   \\\n",
            "0    31-00:00    23.10    16.520     121.717  1177.607      169.805   \n",
            "1    31-01:00    27.60    16.810      79.022  1328.360      341.327   \n",
            "2    31-02:00    23.19    16.709      79.562  1329.407      239.161   \n",
            "3    31-03:00    23.60    16.478      81.011  1334.877      213.527   \n",
            "4    31-04:00    22.90    15.618      93.244  1334.168      243.131   \n",
            "\n",
            "   T-upperExt-2   T-lowerExt-2    UCZAA  WhiteFlow-4   ...  SteamFlow-4   \\\n",
            "0        358.282         329.545  1.443       599.253  ...        67.122   \n",
            "1        351.050         329.067  1.549       537.201  ...        60.012   \n",
            "2        350.022         329.260  1.600       549.611  ...        61.304   \n",
            "3        350.938         331.142  1.604       623.362  ...        68.496   \n",
            "4        351.640         332.709    NaN       638.672  ...        70.022   \n",
            "\n",
            "   Lower-HeatT-3  Upper-HeatT-3   ChipMass-4   WeakLiquorF   BlackFlow-2   \\\n",
            "0        329.432         303.099      175.964      1127.197      1319.039   \n",
            "1        330.823         304.879      163.202       665.975      1297.317   \n",
            "2        329.140         303.383      164.013       677.534      1327.072   \n",
            "3        328.875         302.254      181.487       767.853      1324.461   \n",
            "4        328.352         300.954      183.929       888.448      1343.424   \n",
            "\n",
            "   WeakWashF   SteamHeatF-3   T-Top-Chips-4   SulphidityL-4   \n",
            "0     257.325         54.612         252.077             NaN  \n",
            "1     241.182         46.603         251.406           29.11  \n",
            "2     237.272         51.795         251.335             NaN  \n",
            "3     239.478         54.846         250.312           29.02  \n",
            "4     215.372         54.186         249.916           29.01  \n",
            "\n",
            "[5 rows x 23 columns]\n"
          ]
        }
      ]
    },
    {
      "cell_type": "code",
      "source": [
        "#print head\n",
        "print(df.head())\n",
        "\n"
      ],
      "metadata": {
        "colab": {
          "base_uri": "https://localhost:8080/"
        },
        "id": "fgRKM6g5yt3V",
        "outputId": "a590a7eb-9b1c-4ae9-8db4-84ec1b0b02ed"
      },
      "execution_count": null,
      "outputs": [
        {
          "output_type": "stream",
          "name": "stdout",
          "text": [
            "  Observation  Y-Kappa  ChipRate  BF-CMratio  BlowFlow  ChipLevel4   \\\n",
            "0    31-00:00    23.10    16.520     121.717  1177.607      169.805   \n",
            "1    31-01:00    27.60    16.810      79.022  1328.360      341.327   \n",
            "2    31-02:00    23.19    16.709      79.562  1329.407      239.161   \n",
            "3    31-03:00    23.60    16.478      81.011  1334.877      213.527   \n",
            "4    31-04:00    22.90    15.618      93.244  1334.168      243.131   \n",
            "\n",
            "   T-upperExt-2   T-lowerExt-2    UCZAA  WhiteFlow-4   ...  SteamFlow-4   \\\n",
            "0        358.282         329.545  1.443       599.253  ...        67.122   \n",
            "1        351.050         329.067  1.549       537.201  ...        60.012   \n",
            "2        350.022         329.260  1.600       549.611  ...        61.304   \n",
            "3        350.938         331.142  1.604       623.362  ...        68.496   \n",
            "4        351.640         332.709    NaN       638.672  ...        70.022   \n",
            "\n",
            "   Lower-HeatT-3  Upper-HeatT-3   ChipMass-4   WeakLiquorF   BlackFlow-2   \\\n",
            "0        329.432         303.099      175.964      1127.197      1319.039   \n",
            "1        330.823         304.879      163.202       665.975      1297.317   \n",
            "2        329.140         303.383      164.013       677.534      1327.072   \n",
            "3        328.875         302.254      181.487       767.853      1324.461   \n",
            "4        328.352         300.954      183.929       888.448      1343.424   \n",
            "\n",
            "   WeakWashF   SteamHeatF-3   T-Top-Chips-4   SulphidityL-4   \n",
            "0     257.325         54.612         252.077             NaN  \n",
            "1     241.182         46.603         251.406           29.11  \n",
            "2     237.272         51.795         251.335             NaN  \n",
            "3     239.478         54.846         250.312           29.02  \n",
            "4     215.372         54.186         249.916           29.01  \n",
            "\n",
            "[5 rows x 23 columns]\n"
          ]
        }
      ]
    },
    {
      "cell_type": "code",
      "source": [
        "# Filtering data based on conditions\n",
        "filtered_df = df[df['Y-Kappa'] > 25]\n",
        "print(\"\\nFiltered DataFrame where Y-Kappa is greater than 25:\")\n",
        "print(filtered_df)\n",
        "\n"
      ],
      "metadata": {
        "colab": {
          "base_uri": "https://localhost:8080/"
        },
        "id": "aT-bH3hi0PxE",
        "outputId": "847024c4-fec4-48c5-9bc5-75d29cc42743"
      },
      "execution_count": null,
      "outputs": [
        {
          "output_type": "stream",
          "name": "stdout",
          "text": [
            "\n",
            "Filtered DataFrame where Y-Kappa is greater than 25:\n",
            "    Observation  Y-Kappa  ChipRate  BF-CMratio  BlowFlow  ChipLevel4   \\\n",
            "1      31-01:00    27.60    16.810      79.022  1328.360      341.327   \n",
            "12     31-11:00    26.62    15.467      84.447  1334.255      386.971   \n",
            "13     31-12:00    27.20    16.083      82.839  1332.331      366.855   \n",
            "15     31-14:00    25.40    16.425      72.924  1197.775      118.821   \n",
            "40      1-15:00    27.10    13.558      83.117  1175.417      289.256   \n",
            "64      2-15:00    25.40    16.958      74.405  1230.776      295.522   \n",
            "80      3-07:00    26.50    16.300      75.411  1229.199      358.256   \n",
            "121     5-00:00    25.56    14.900      84.953  1289.167      373.726   \n",
            "123     5-02:00    25.30    15.225      82.030  1280.837      312.879   \n",
            "151     6-06:00    26.02    15.800      79.293  1291.149      271.419   \n",
            "167     6-22:00    25.10    15.075      80.024  1281.051      343.214   \n",
            "168     6-23:00    25.52    16.008      77.070  1285.782      338.656   \n",
            "179     7-10:00    25.41    13.070         NaN       NaN      278.166   \n",
            "193     8-00:00    26.10    15.083      78.098  1168.219      233.376   \n",
            "239     9-22:00    25.75    13.417      85.451  1186.342      248.312   \n",
            "303    31-01:00    27.60    16.810      79.022  1328.360      341.327   \n",
            "313    31-11:00    26.62    15.467      84.447  1334.255      386.971   \n",
            "323     9-22:00    25.75    13.417      85.451  1186.342      248.312   \n",
            "\n",
            "     T-upperExt-2   T-lowerExt-2    UCZAA  WhiteFlow-4   ...  SteamFlow-4   \\\n",
            "1          351.050         329.067  1.549       537.201  ...        60.012   \n",
            "12         349.392         321.021  1.428       531.250  ...        59.407   \n",
            "13         350.094         327.439  1.486       527.893  ...        60.271   \n",
            "15         350.765         329.799  1.635       585.011  ...        65.474   \n",
            "40         339.168         318.386  1.360       480.184  ...        48.568   \n",
            "64         350.216         322.740  1.471       540.151  ...        52.962   \n",
            "80         352.871         325.690  1.416       531.174  ...        59.183   \n",
            "121        358.028         326.809  1.265       568.074  ...        63.684   \n",
            "123        358.944         327.582  1.335       615.580  ...        72.743   \n",
            "151        355.922         323.014  1.623       537.862  ...        60.490   \n",
            "167        354.905         325.323  1.377       618.276  ...        59.783   \n",
            "168        355.149         325.669  1.462       619.954  ...        63.048   \n",
            "179        351.172         322.353  1.224       542.846  ...        53.461   \n",
            "193        366.604         332.953  1.534       524.180  ...        59.971   \n",
            "239        356.289         310.482  1.474       497.375  ...        58.247   \n",
            "303        351.050         329.067  1.549       537.201  ...        60.012   \n",
            "313        349.392         321.021  1.428       531.250  ...        59.407   \n",
            "323        356.289         310.482  1.474       497.375  ...        58.247   \n",
            "\n",
            "     Lower-HeatT-3  Upper-HeatT-3   ChipMass-4   WeakLiquorF   BlackFlow-2   \\\n",
            "1          330.823         304.879      163.202       665.975      1297.317   \n",
            "12         330.284         303.248      156.797       799.947      1299.782   \n",
            "13         330.023         302.883      160.562       771.158      1299.974   \n",
            "15         329.773         302.884      175.646       756.154      1300.037   \n",
            "40         318.228         294.850      131.537       744.659       996.046   \n",
            "64         318.913         295.843      146.914       727.366      1052.879   \n",
            "80         319.990         296.154      149.077       701.273      1026.333   \n",
            "121        320.797         296.457      147.131       860.372      1014.646   \n",
            "123        321.206         296.893      164.746       965.018      1043.596   \n",
            "151        320.845         293.856      141.382      1099.121      1128.464   \n",
            "167        320.077         295.551      157.611       901.062      1069.602   \n",
            "168        320.280         295.959      158.476       878.072      1069.102   \n",
            "179        318.711         295.300      141.076       863.891      1091.979   \n",
            "193        327.433         298.459      143.328       797.404      1176.439   \n",
            "239        328.092         304.093      144.218       828.328      1320.848   \n",
            "303        330.823         304.879      163.202       665.975      1297.317   \n",
            "313        330.284         303.248      156.797       799.947      1299.782   \n",
            "323        328.092         304.093      144.218       828.328      1320.848   \n",
            "\n",
            "     WeakWashF   SteamHeatF-3   T-Top-Chips-4   SulphidityL-4   \n",
            "1       241.182         46.603         251.406          29.110  \n",
            "12      118.901         46.597         251.721             NaN  \n",
            "13      153.647         47.175         251.767          30.180  \n",
            "15      401.418         54.628         251.009          30.410  \n",
            "40      118.899         41.985         253.450             NaN  \n",
            "64      476.150         43.701         252.097             NaN  \n",
            "80      259.773         42.596         250.775          31.910  \n",
            "121     149.973         43.781         252.652          31.796  \n",
            "123     213.414         49.987         251.192          30.595  \n",
            "151     220.444         45.761         251.543             NaN  \n",
            "167     309.348         46.209         250.821          30.370  \n",
            "168     264.774         46.030         250.724             NaN  \n",
            "179      43.288         48.221         252.042          30.180  \n",
            "193     497.742         46.377         250.287             NaN  \n",
            "239       1.276         43.840         253.216             NaN  \n",
            "303     241.182         46.603         251.406          29.110  \n",
            "313     118.901         46.597         251.721             NaN  \n",
            "323       1.276         43.840         253.216             NaN  \n",
            "\n",
            "[18 rows x 23 columns]\n"
          ]
        }
      ]
    },
    {
      "cell_type": "code",
      "source": [
        "#finding missing values\n",
        "missing_values = df.isnull().sum()\n",
        "print(\"\\nMissing values in the DataFrame:\")\n",
        "print(missing_values)\n"
      ],
      "metadata": {
        "colab": {
          "base_uri": "https://localhost:8080/"
        },
        "id": "rKoHSw9P0Ssl",
        "outputId": "0f820e0f-faad-4900-e727-2a30b8839240"
      },
      "execution_count": null,
      "outputs": [
        {
          "output_type": "stream",
          "name": "stdout",
          "text": [
            "\n",
            "Missing values in the DataFrame:\n",
            "Observation          0\n",
            "Y-Kappa              0\n",
            "ChipRate             5\n",
            "BF-CMratio          17\n",
            "BlowFlow            16\n",
            "ChipLevel4           1\n",
            "T-upperExt-2         2\n",
            "T-lowerExt-2         2\n",
            "UCZAA               25\n",
            "WhiteFlow-4          1\n",
            "AAWhiteSt-4        151\n",
            "AA-Wood-4            1\n",
            "ChipMoisture-4       1\n",
            "SteamFlow-4          1\n",
            "Lower-HeatT-3        2\n",
            "Upper-HeatT-3        2\n",
            "ChipMass-4           1\n",
            "WeakLiquorF          1\n",
            "BlackFlow-2          2\n",
            "WeakWashF            1\n",
            "SteamHeatF-3         2\n",
            "T-Top-Chips-4        1\n",
            "SulphidityL-4      151\n",
            "dtype: int64\n"
          ]
        }
      ]
    },
    {
      "cell_type": "code",
      "source": [
        "\n",
        "\n",
        "# Display basic statistics of numerical columns\n",
        "print(\"Basic statistics of numerical columns:\")\n",
        "print(df.describe())\n",
        "\n",
        "# Calculate summary statistics for each column\n",
        "summary_stats = df.describe().transpose()\n",
        "\n",
        "# If you want to save the summary statistics to a CSV file\n",
        "summary_stats.to_csv(\"/content/drive/MyDrive/main flow task 2/summary_statistics.csv\")\n",
        "\n",
        "# Print summary statistics\n",
        "print(\"\\nSummary statistics for each column:\")\n",
        "print(summary_stats)\n"
      ],
      "metadata": {
        "colab": {
          "base_uri": "https://localhost:8080/"
        },
        "id": "x9s0ZVih6tXd",
        "outputId": "590f0d54-346f-4af8-e6db-86ea0a12f942"
      },
      "execution_count": null,
      "outputs": [
        {
          "output_type": "stream",
          "name": "stdout",
          "text": [
            "Basic statistics of numerical columns:\n",
            "          Y-Kappa    ChipRate  BF-CMratio     BlowFlow  ChipLevel4   \\\n",
            "count  324.000000  319.000000  307.000000   308.000000   323.000000   \n",
            "mean    20.635370   14.347937   87.464456  1237.837614   258.164483   \n",
            "std      3.070036    1.499095    7.995012   100.593735    87.987452   \n",
            "min     12.170000    9.983000   68.645000     0.000000     0.000000   \n",
            "25%     18.382500   13.358000   81.823000  1193.215250   213.527000   \n",
            "50%     20.845000   14.308000   86.739000  1273.138500   271.792000   \n",
            "75%     23.032500   15.517000   92.372000  1289.196000   321.680000   \n",
            "max     27.600000   16.958000  121.717000  1351.240000   419.014000   \n",
            "\n",
            "       T-upperExt-2   T-lowerExt-2         UCZAA  WhiteFlow-4   AAWhiteSt-4   \\\n",
            "count     322.000000      322.000000  299.000000    323.000000    173.000000   \n",
            "mean      356.904295      324.020180    1.492010    591.732260      6.140410   \n",
            "std         9.209290        7.621402    0.105923     67.016351      0.081609   \n",
            "min       339.168000      284.633000    1.182000    405.111000      5.890000   \n",
            "25%       350.241250      321.420000    1.431500    540.989500      6.089000   \n",
            "50%       356.843000      325.669000    1.498000    592.895000      6.135000   \n",
            "75%       362.242250      329.175000    1.560500    639.480500      6.199000   \n",
            "max       399.135000      337.012000    1.747000    731.394000      6.340000   \n",
            "\n",
            "       ...  SteamFlow-4   Lower-HeatT-3  Upper-HeatT-3   ChipMass-4   \\\n",
            "count  ...    323.000000     322.000000      322.000000   323.000000   \n",
            "mean   ...     66.668285     325.567820      300.525699   162.222322   \n",
            "std    ...      5.708587       4.609862        4.568484    14.160688   \n",
            "min    ...     48.568000     318.051000      293.312000   113.922000   \n",
            "25%    ...     62.518000     321.385500      296.513250   153.032500   \n",
            "50%    ...     67.429000     324.741000      299.126000   163.690000   \n",
            "75%    ...     71.522000     329.845250      304.244750   172.555000   \n",
            "max    ...     76.147000     333.854000      311.146000   189.268000   \n",
            "\n",
            "       WeakLiquorF   BlackFlow-2   WeakWashF   SteamHeatF-3   T-Top-Chips-4   \\\n",
            "count    323.000000    322.000000  323.000000     322.000000      323.000000   \n",
            "mean     873.828941   1175.917016  263.543068      49.696907      251.240087   \n",
            "std      122.073521    149.334010  163.666942       4.551909        1.283432   \n",
            "min      486.938000    838.948000    0.000000      35.510000      248.359000   \n",
            "25%      792.019500   1044.817500  134.649000      46.389750      250.312000   \n",
            "50%      865.254000   1150.221500  269.193000      50.277000      251.380000   \n",
            "75%      965.286500   1319.021250  405.563000      53.294250      252.323500   \n",
            "max     1226.277000   1395.767000  715.715000      63.332000      254.122000   \n",
            "\n",
            "       SulphidityL-4   \n",
            "count      173.000000  \n",
            "mean        30.411671  \n",
            "std          0.701317  \n",
            "min         29.010000  \n",
            "25%         29.970000  \n",
            "50%         30.370000  \n",
            "75%         30.820000  \n",
            "max         32.840000  \n",
            "\n",
            "[8 rows x 22 columns]\n",
            "\n",
            "Summary statistics for each column:\n",
            "                 count         mean         std      min         25%  \\\n",
            "Y-Kappa          324.0    20.635370    3.070036   12.170    18.38250   \n",
            "ChipRate         319.0    14.347937    1.499095    9.983    13.35800   \n",
            "BF-CMratio       307.0    87.464456    7.995012   68.645    81.82300   \n",
            "BlowFlow         308.0  1237.837614  100.593735    0.000  1193.21525   \n",
            "ChipLevel4       323.0   258.164483   87.987452    0.000   213.52700   \n",
            "T-upperExt-2     322.0   356.904295    9.209290  339.168   350.24125   \n",
            "T-lowerExt-2     322.0   324.020180    7.621402  284.633   321.42000   \n",
            "UCZAA            299.0     1.492010    0.105923    1.182     1.43150   \n",
            "WhiteFlow-4      323.0   591.732260   67.016351  405.111   540.98950   \n",
            "AAWhiteSt-4      173.0     6.140410    0.081609    5.890     6.08900   \n",
            "AA-Wood-4        323.0    17.835885    0.913390   16.471    17.10550   \n",
            "ChipMoisture-4   323.0    46.781969    1.480862   42.822    45.69500   \n",
            "SteamFlow-4      323.0    66.668285    5.708587   48.568    62.51800   \n",
            "Lower-HeatT-3    322.0   325.567820    4.609862  318.051   321.38550   \n",
            "Upper-HeatT-3    322.0   300.525699    4.568484  293.312   296.51325   \n",
            "ChipMass-4       323.0   162.222322   14.160688  113.922   153.03250   \n",
            "WeakLiquorF      323.0   873.828941  122.073521  486.938   792.01950   \n",
            "BlackFlow-2      322.0  1175.917016  149.334010  838.948  1044.81750   \n",
            "WeakWashF        323.0   263.543068  163.666942    0.000   134.64900   \n",
            "SteamHeatF-3     322.0    49.696907    4.551909   35.510    46.38975   \n",
            "T-Top-Chips-4    323.0   251.240087    1.283432  248.359   250.31200   \n",
            "SulphidityL-4    173.0    30.411671    0.701317   29.010    29.97000   \n",
            "\n",
            "                       50%         75%       max  \n",
            "Y-Kappa            20.8450    23.03250    27.600  \n",
            "ChipRate           14.3080    15.51700    16.958  \n",
            "BF-CMratio         86.7390    92.37200   121.717  \n",
            "BlowFlow         1273.1385  1289.19600  1351.240  \n",
            "ChipLevel4        271.7920   321.68000   419.014  \n",
            "T-upperExt-2      356.8430   362.24225   399.135  \n",
            "T-lowerExt-2      325.6690   329.17500   337.012  \n",
            "UCZAA               1.4980     1.56050     1.747  \n",
            "WhiteFlow-4       592.8950   639.48050   731.394  \n",
            "AAWhiteSt-4         6.1350     6.19900     6.340  \n",
            "AA-Wood-4          17.7590    18.56600    19.582  \n",
            "ChipMoisture-4     46.8460    47.91100    50.658  \n",
            "SteamFlow-4        67.4290    71.52200    76.147  \n",
            "Lower-HeatT-3     324.7410   329.84525   333.854  \n",
            "Upper-HeatT-3     299.1260   304.24475   311.146  \n",
            "ChipMass-4        163.6900   172.55500   189.268  \n",
            "WeakLiquorF       865.2540   965.28650  1226.277  \n",
            "BlackFlow-2      1150.2215  1319.02125  1395.767  \n",
            "WeakWashF         269.1930   405.56300   715.715  \n",
            "SteamHeatF-3       50.2770    53.29425    63.332  \n",
            "T-Top-Chips-4     251.3800   252.32350   254.122  \n",
            "SulphidityL-4      30.3700    30.82000    32.840  \n"
          ]
        }
      ]
    },
    {
      "cell_type": "code",
      "source": [
        "df.dtypes"
      ],
      "metadata": {
        "colab": {
          "base_uri": "https://localhost:8080/"
        },
        "id": "jEusKFdp0fgX",
        "outputId": "6b85bae2-9e85-4a16-d554-db7773f7f553"
      },
      "execution_count": null,
      "outputs": [
        {
          "output_type": "execute_result",
          "data": {
            "text/plain": [
              "Observation         object\n",
              "Y-Kappa            float64\n",
              "ChipRate           float64\n",
              "BF-CMratio         float64\n",
              "BlowFlow           float64\n",
              "ChipLevel4         float64\n",
              "T-upperExt-2       float64\n",
              "T-lowerExt-2       float64\n",
              "UCZAA              float64\n",
              "WhiteFlow-4        float64\n",
              "AAWhiteSt-4        float64\n",
              "AA-Wood-4          float64\n",
              "ChipMoisture-4     float64\n",
              "SteamFlow-4        float64\n",
              "Lower-HeatT-3      float64\n",
              "Upper-HeatT-3      float64\n",
              "ChipMass-4         float64\n",
              "WeakLiquorF        float64\n",
              "BlackFlow-2        float64\n",
              "WeakWashF          float64\n",
              "SteamHeatF-3       float64\n",
              "T-Top-Chips-4      float64\n",
              "SulphidityL-4      float64\n",
              "dtype: object"
            ]
          },
          "metadata": {},
          "execution_count": 33
        }
      ]
    }
  ]
}
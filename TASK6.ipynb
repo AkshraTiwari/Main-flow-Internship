{
  "nbformat": 4,
  "nbformat_minor": 0,
  "metadata": {
    "colab": {
      "provenance": []
    },
    "kernelspec": {
      "name": "python3",
      "display_name": "Python 3"
    },
    "language_info": {
      "name": "python"
    }
  },
  "cells": [
    {
      "cell_type": "code",
      "execution_count": 1,
      "metadata": {
        "colab": {
          "base_uri": "https://localhost:8080/"
        },
        "id": "SI3woZohfMNV",
        "outputId": "a8ddf43a-e06e-4861-b6ac-3e425bdfd3b0"
      },
      "outputs": [
        {
          "output_type": "stream",
          "name": "stdout",
          "text": [
            "Requirement already satisfied: pandas in /usr/local/lib/python3.10/dist-packages (2.0.3)\n",
            "Requirement already satisfied: statsmodels in /usr/local/lib/python3.10/dist-packages (0.14.2)\n",
            "Requirement already satisfied: nltk in /usr/local/lib/python3.10/dist-packages (3.8.1)\n",
            "Requirement already satisfied: scikit-learn in /usr/local/lib/python3.10/dist-packages (1.2.2)\n",
            "Requirement already satisfied: matplotlib in /usr/local/lib/python3.10/dist-packages (3.7.1)\n",
            "Requirement already satisfied: python-dateutil>=2.8.2 in /usr/local/lib/python3.10/dist-packages (from pandas) (2.8.2)\n",
            "Requirement already satisfied: pytz>=2020.1 in /usr/local/lib/python3.10/dist-packages (from pandas) (2023.4)\n",
            "Requirement already satisfied: tzdata>=2022.1 in /usr/local/lib/python3.10/dist-packages (from pandas) (2024.1)\n",
            "Requirement already satisfied: numpy>=1.21.0 in /usr/local/lib/python3.10/dist-packages (from pandas) (1.25.2)\n",
            "Requirement already satisfied: scipy!=1.9.2,>=1.8 in /usr/local/lib/python3.10/dist-packages (from statsmodels) (1.11.4)\n",
            "Requirement already satisfied: patsy>=0.5.6 in /usr/local/lib/python3.10/dist-packages (from statsmodels) (0.5.6)\n",
            "Requirement already satisfied: packaging>=21.3 in /usr/local/lib/python3.10/dist-packages (from statsmodels) (24.1)\n",
            "Requirement already satisfied: click in /usr/local/lib/python3.10/dist-packages (from nltk) (8.1.7)\n",
            "Requirement already satisfied: joblib in /usr/local/lib/python3.10/dist-packages (from nltk) (1.4.2)\n",
            "Requirement already satisfied: regex>=2021.8.3 in /usr/local/lib/python3.10/dist-packages (from nltk) (2024.5.15)\n",
            "Requirement already satisfied: tqdm in /usr/local/lib/python3.10/dist-packages (from nltk) (4.66.4)\n",
            "Requirement already satisfied: threadpoolctl>=2.0.0 in /usr/local/lib/python3.10/dist-packages (from scikit-learn) (3.5.0)\n",
            "Requirement already satisfied: contourpy>=1.0.1 in /usr/local/lib/python3.10/dist-packages (from matplotlib) (1.2.1)\n",
            "Requirement already satisfied: cycler>=0.10 in /usr/local/lib/python3.10/dist-packages (from matplotlib) (0.12.1)\n",
            "Requirement already satisfied: fonttools>=4.22.0 in /usr/local/lib/python3.10/dist-packages (from matplotlib) (4.53.1)\n",
            "Requirement already satisfied: kiwisolver>=1.0.1 in /usr/local/lib/python3.10/dist-packages (from matplotlib) (1.4.5)\n",
            "Requirement already satisfied: pillow>=6.2.0 in /usr/local/lib/python3.10/dist-packages (from matplotlib) (9.4.0)\n",
            "Requirement already satisfied: pyparsing>=2.3.1 in /usr/local/lib/python3.10/dist-packages (from matplotlib) (3.1.2)\n",
            "Requirement already satisfied: six in /usr/local/lib/python3.10/dist-packages (from patsy>=0.5.6->statsmodels) (1.16.0)\n"
          ]
        }
      ],
      "source": [
        "pip install pandas statsmodels nltk scikit-learn matplotlib"
      ]
    },
    {
      "cell_type": "code",
      "source": [
        "import pandas as pd\n",
        "import numpy as np\n",
        "import matplotlib.pyplot as plt\n",
        "import statsmodels.api as sm\n",
        "from sklearn.cluster import KMeans\n",
        "from sklearn.feature_extraction.text import CountVectorizer\n",
        "from sklearn.model_selection import train_test_split\n",
        "from sklearn.naive_bayes import MultinomialNB\n",
        "from sklearn.metrics import classification_report\n",
        "import nltk\n",
        "from nltk.sentiment.vader import SentimentIntensityAnalyzer\n",
        "\n",
        "nltk.download('vader_lexicon')\n",
        "\n",
        "# Load Disney+ titles dataset\n",
        "def load_data():\n",
        "    data = {\n",
        "        'show_id': ['s1', 's2', 's3', 's4', 's5', 's6', 's7', 's8'],\n",
        "        'type': ['Movie', 'Movie', 'Movie', 'TV Show', 'TV Show', 'TV Show', 'Movie', 'Movie'],\n",
        "        'title': ['A Spark Story', 'Spooky Buddies', 'The Fault in Our Stars', 'Dog: Impossible', 'Spidey And His Amazing Friends', 'Star Wars: Visions', 'Confessions of a Shopaholic', 'Descendants: Royal Wedding'],\n",
        "        'director': ['Jason Sterman, Leanne Dare', 'Robert Vince', 'Josh Boone', '', '', '', 'P.J. Hogan', 'Salvador Simó'],\n",
        "        'cast': ['Apthon Corbin, Louis Gonzales', 'Tucker Albrizzi, Diedrich Bader, Ameko Eks Mass Carroll, Max Charles, Tim Conway, Jennifer Elise Cox', 'Shailene Woodley, Ansel Elgort, Laura Dern, Sam Trammell, Nat Wolff, Willem Dafoe', 'Matt Beisner', 'Benjamin Valic, Lily Sanfelippo, Jakari Fraser, Dee Bradley Baker, Melanie Minichino', '', 'Isla Fisher, Hugh Dancy, Joan Cusack, John Goodman, John Lithgow, Kristin Scott Thomas', 'Dove Cameron, Sofia Carson, Booboo Stewart, Mitchell Hope, Sarah Jeffery, Melanie Paxson'],\n",
        "        'country': [np.nan, 'United States, Canada', 'United States', 'United States', 'United States', np.nan, 'United States', np.nan],\n",
        "        'date_added': ['September 24, 2021', 'September 24, 2021', 'September 24, 2021', 'September 22, 2021', 'September 22, 2021', 'September 22, 2021', 'September 17, 2021', 'September 17, 2021'],\n",
        "        'release_year': [2021, 2011, 2014, 2019, 2021, 2021, 2009, 2021],\n",
        "        'rating': ['TV-PG', 'G', 'PG-13', 'TV-PG', 'TV-Y', 'TV-PG', 'PG', 'TV-G'],\n",
        "        'duration': ['88 min', '93 min', '127 min', '2 Seasons', '1 Season', '1 Season', '106 min', '22 min'],\n",
        "        'listed_in': ['Documentary', 'Comedy, Fantasy, Kids', 'Coming of Age, Drama, Romance', 'Animals & Nature, Docuseries, Family', 'Action-Adventure, Animation, Kids', 'Action-Adventure, Animation, Anime', 'Comedy, Romance, Romantic Comedy', 'Animation, Fantasy, Musical'],\n",
        "        'description': [\n",
        "            'Two Pixar filmmakers strive to bring their uniquely personal SparkShorts visions to the screen.',\n",
        "            'The puppies go on a spooky adventure through a mysterious haunted mansion in this fur-raising flick.',\n",
        "            'Hazel and Gus share a love that sweeps them on an unforgettable journey.',\n",
        "            'Matt Beisner uses unique approaches to modifying canine behavior and focuses on each animal’s needs.',\n",
        "            'Spidey teams up with pals to become The Spidey Team!',\n",
        "            'An animated anthology celebrating Star Wars through the lens of the world’s best anime creators.',\n",
        "            'Becky writes a personal finance column en route to a high-fashion mag job.',\n",
        "            'Mal and Ben’s wedding is finally here!'\n",
        "        ]\n",
        "    }\n",
        "    return pd.DataFrame(data)\n",
        "\n",
        "# Example 1: Time Series Analysis\n",
        "def time_series_analysis(data):\n",
        "    # Process date_added column\n",
        "    data['date_added'] = pd.to_datetime(data['date_added'])\n",
        "    data = data.dropna(subset=['date_added'])\n",
        "    data.set_index('date_added', inplace=True)\n",
        "\n",
        "    # Aggregate data by month\n",
        "    monthly_data = data.resample('M').size()\n",
        "    monthly_data.plot()\n",
        "    plt.title('Number of Titles Added Over Time')\n",
        "    plt.show()\n",
        "\n",
        "    # Decompose the time series\n",
        "    decomposition = sm.tsa.seasonal_decompose(monthly_data, model='additive', period=12)\n",
        "    decomposition.plot()\n",
        "    plt.show()\n",
        "\n",
        "    # Forecasting using ARIMA\n",
        "    model = sm.tsa.ARIMA(monthly_data, order=(5, 1, 0))\n",
        "    results = model.fit()\n",
        "    print(results.summary())\n",
        "    results.plot_predict(start=len(monthly_data), end=len(monthly_data) + 12, dynamic=False)\n",
        "    plt.show()\n",
        "\n",
        "# Example 2: Sentiment Analysis\n",
        "def sentiment_analysis(text_data):\n",
        "    sia = SentimentIntensityAnalyzer()\n",
        "    sentiment_scores = [sia.polarity_scores(text) for text in text_data]\n",
        "    return sentiment_scores\n",
        "\n",
        "# Example 3: Clustering and Classification\n",
        "def clustering_and_classification(data):\n",
        "    # Feature extraction for clustering\n",
        "    vectorizer = CountVectorizer()\n",
        "    X = vectorizer.fit_transform(data['description'].fillna(''))\n",
        "\n",
        "    # Clustering\n",
        "    kmeans = KMeans(n_clusters=3, random_state=42)\n",
        "    data['cluster'] = kmeans.fit_predict(X.toarray())\n",
        "\n",
        "    # Classification\n",
        "    y = data['type'].apply(lambda x: 1 if x == 'Movie' else 0)  # Binary classification: Movie=1, TV Show=0\n",
        "\n",
        "    X_train, X_test, y_train, y_test = train_test_split(X, y, test_size=0.2, random_state=42)\n",
        "    clf = MultinomialNB()\n",
        "    clf.fit(X_train, y_train)\n",
        "    y_pred = clf.predict(X_test)\n",
        "    print(classification_report(y_test, y_pred))\n",
        "\n",
        "# Example Usage\n",
        "if __name__ == \"__main__\":\n",
        "    data = load_data()\n",
        "\n",
        "    # Time Series Analysis\n",
        "    time_series_analysis(data)\n",
        "\n",
        "    # Sentiment Analysis on descriptions\n",
        "    text_data = data['description'].fillna('').tolist()\n",
        "    sentiments = sentiment_analysis(text_data)\n",
        "    print(sentiments[:5])  # Print first 5 sentiment scores\n",
        "\n",
        "    # Clustering and Classification\n",
        "    clustering_and_classification(data)\n"
      ],
      "metadata": {
        "colab": {
          "base_uri": "https://localhost:8080/",
          "height": 911
        },
        "id": "C4oZ0xMHgB1t",
        "outputId": "37e2b696-202e-45b0-c21e-58e57da0014e"
      },
      "execution_count": 3,
      "outputs": [
        {
          "output_type": "stream",
          "name": "stderr",
          "text": [
            "[nltk_data] Downloading package vader_lexicon to /root/nltk_data...\n",
            "[nltk_data]   Package vader_lexicon is already up-to-date!\n",
            "/usr/local/lib/python3.10/dist-packages/pandas/plotting/_matplotlib/core.py:1401: UserWarning: Attempting to set identical low and high xlims makes transformation singular; automatically expanding.\n",
            "  ax.set_xlim(left, right)\n"
          ]
        },
        {
          "output_type": "display_data",
          "data": {
            "text/plain": [
              "<Figure size 640x480 with 1 Axes>"
            ],
            "image/png": "[encoded data removed]"
          },
          "metadata": {}
        },
        {
          "output_type": "error",
          "ename": "ValueError",
          "evalue": "x must have 2 complete cycles requires 24 observations. x only has 1 observation(s)",
          "traceback": [
            "\u001b[0;31m---------------------------------------------------------------------------\u001b[0m",
            "\u001b[0;31mValueError\u001b[0m                                Traceback (most recent call last)",
            "\u001b[0;32m<ipython-input-3-fe6e3466cb90>\u001b[0m in \u001b[0;36m<cell line: 93>\u001b[0;34m()\u001b[0m\n\u001b[1;32m     95\u001b[0m \u001b[0;34m\u001b[0m\u001b[0m\n\u001b[1;32m     96\u001b[0m     \u001b[0;31m# Time Series Analysis\u001b[0m\u001b[0;34m\u001b[0m\u001b[0;34m\u001b[0m\u001b[0m\n\u001b[0;32m---> 97\u001b[0;31m     \u001b[0mtime_series_analysis\u001b[0m\u001b[0;34m(\u001b[0m\u001b[0mdata\u001b[0m\u001b[0;34m)\u001b[0m\u001b[0;34m\u001b[0m\u001b[0;34m\u001b[0m\u001b[0m\n\u001b[0m\u001b[1;32m     98\u001b[0m \u001b[0;34m\u001b[0m\u001b[0m\n\u001b[1;32m     99\u001b[0m     \u001b[0;31m# Sentiment Analysis on descriptions\u001b[0m\u001b[0;34m\u001b[0m\u001b[0;34m\u001b[0m\u001b[0m\n",
            "\u001b[0;32m<ipython-input-3-fe6e3466cb90>\u001b[0m in \u001b[0;36mtime_series_analysis\u001b[0;34m(data)\u001b[0m\n\u001b[1;32m     54\u001b[0m \u001b[0;34m\u001b[0m\u001b[0m\n\u001b[1;32m     55\u001b[0m     \u001b[0;31m# Decompose the time series\u001b[0m\u001b[0;34m\u001b[0m\u001b[0;34m\u001b[0m\u001b[0m\n\u001b[0;32m---> 56\u001b[0;31m     \u001b[0mdecomposition\u001b[0m \u001b[0;34m=\u001b[0m \u001b[0msm\u001b[0m\u001b[0;34m.\u001b[0m\u001b[0mtsa\u001b[0m\u001b[0;34m.\u001b[0m\u001b[0mseasonal_decompose\u001b[0m\u001b[0;34m(\u001b[0m\u001b[0mmonthly_data\u001b[0m\u001b[0;34m,\u001b[0m \u001b[0mmodel\u001b[0m\u001b[0;34m=\u001b[0m\u001b[0;34m'additive'\u001b[0m\u001b[0;34m,\u001b[0m \u001b[0mperiod\u001b[0m\u001b[0;34m=\u001b[0m\u001b[0;36m12\u001b[0m\u001b[0;34m)\u001b[0m\u001b[0;34m\u001b[0m\u001b[0;34m\u001b[0m\u001b[0m\n\u001b[0m\u001b[1;32m     57\u001b[0m     \u001b[0mdecomposition\u001b[0m\u001b[0;34m.\u001b[0m\u001b[0mplot\u001b[0m\u001b[0;34m(\u001b[0m\u001b[0;34m)\u001b[0m\u001b[0;34m\u001b[0m\u001b[0;34m\u001b[0m\u001b[0m\n\u001b[1;32m     58\u001b[0m     \u001b[0mplt\u001b[0m\u001b[0;34m.\u001b[0m\u001b[0mshow\u001b[0m\u001b[0;34m(\u001b[0m\u001b[0;34m)\u001b[0m\u001b[0;34m\u001b[0m\u001b[0;34m\u001b[0m\u001b[0m\n",
            "\u001b[0;32m/usr/local/lib/python3.10/dist-packages/statsmodels/tsa/seasonal.py\u001b[0m in \u001b[0;36mseasonal_decompose\u001b[0;34m(x, model, filt, period, two_sided, extrapolate_trend)\u001b[0m\n\u001b[1;32m    170\u001b[0m             )\n\u001b[1;32m    171\u001b[0m     \u001b[0;32mif\u001b[0m \u001b[0mx\u001b[0m\u001b[0;34m.\u001b[0m\u001b[0mshape\u001b[0m\u001b[0;34m[\u001b[0m\u001b[0;36m0\u001b[0m\u001b[0;34m]\u001b[0m \u001b[0;34m<\u001b[0m \u001b[0;36m2\u001b[0m \u001b[0;34m*\u001b[0m \u001b[0mpfreq\u001b[0m\u001b[0;34m:\u001b[0m\u001b[0;34m\u001b[0m\u001b[0;34m\u001b[0m\u001b[0m\n\u001b[0;32m--> 172\u001b[0;31m         raise ValueError(\n\u001b[0m\u001b[1;32m    173\u001b[0m             \u001b[0;34mf\"x must have 2 complete cycles requires {2 * pfreq} \"\u001b[0m\u001b[0;34m\u001b[0m\u001b[0;34m\u001b[0m\u001b[0m\n\u001b[1;32m    174\u001b[0m             \u001b[0;34mf\"observations. x only has {x.shape[0]} observation(s)\"\u001b[0m\u001b[0;34m\u001b[0m\u001b[0;34m\u001b[0m\u001b[0m\n",
            "\u001b[0;31mValueError\u001b[0m: x must have 2 complete cycles requires 24 observations. x only has 1 observation(s)"
          ]
        }
      ]
    }
  ]
}